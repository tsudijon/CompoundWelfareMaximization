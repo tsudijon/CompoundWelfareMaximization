{
  "cells": [
    {
      "cell_type": "code",
      "execution_count": 1,
      "metadata": {
        "id": "hCxY2qvLWaAu"
      },
      "outputs": [
        {
          "name": "stdout",
          "output_type": "stream",
          "text": [
            "Warning: Could not load module named cvxpy\n"
          ]
        }
      ],
      "source": [
        "import numpy as np\n",
        "import matplotlib.pyplot as plt\n",
        "from npeb import PMixture"
      ]
    },
    {
      "cell_type": "code",
      "execution_count": 15,
      "metadata": {
        "id": "H-5KooFb1jb1"
      },
      "outputs": [],
      "source": [
        "n = 50\n",
        "mus = np.random.uniform(0,10,n)\n",
        "cost = 3\n",
        "\n",
        "### generate Poisson data\n",
        "data = np.random.poisson(mus)"
      ]
    },
    {
      "cell_type": "code",
      "execution_count": 16,
      "metadata": {
        "id": "XyBEzPH9sc-d"
      },
      "outputs": [],
      "source": [
        "### F Modelling for Poisson Data\n",
        "# Relies on the Robbins Formula E[mu | X = x] = (x+1)f(x+1)/f(x).\n",
        "# We should pick all datapoints such that (x+1)f(x+1) >= C*f(x)\n",
        "\n",
        "counts,_ = np.histogram(data,bins = np.arange(51))\n",
        "decision_x = np.arange(1,len(counts))*counts[1:] >= cost*counts[:-1]\n",
        "#print(decision_x)\n",
        "\n",
        "mask = np.isin(data, np.argwhere(decision_x == True))"
      ]
    },
    {
      "cell_type": "code",
      "execution_count": 17,
      "metadata": {
        "id": "M1-GQguiAO2d"
      },
      "outputs": [],
      "source": [
        "### Unbiased Bayes Welfare Estimator\n",
        "UWE = np.zeros(20)\n",
        "UWE_Part_I = np.zeros(20)\n",
        "UWE_Part_II = np.zeros(20)\n",
        "for i in range(20):\n",
        "  UWE_Part_I[i] = np.sum(data[data >= i+1])\n",
        "  UWE_Part_II[i] = cost*np.sum(data >= i)\n",
        "\n",
        "UWE = UWE_Part_I - UWE_Part_II"
      ]
    },
    {
      "cell_type": "code",
      "execution_count": 18,
      "metadata": {
        "colab": {
          "base_uri": "https://localhost:8080/",
          "height": 231
        },
        "id": "O48ffFB1IK0Z",
        "outputId": "6b4bea35-0269-4f18-8ab8-d9d6ceed652a"
      },
      "outputs": [
        {
          "data": {
            "text/plain": [
              "<matplotlib.legend.Legend at 0x172f5e250>"
            ]
          },
          "execution_count": 18,
          "metadata": {},
          "output_type": "execute_result"
        },
        {
          "data": {
            "image/png": "[encoded data removed]",
            "text/plain": [
              "<Figure size 500x200 with 1 Axes>"
            ]
          },
          "metadata": {},
          "output_type": "display_data"
        }
      ],
      "source": [
        "plt.figure(figsize = (5,2))\n",
        "plt.plot(range(20), UWE_Part_I, label = \"I\", alpha = 0.2, linestyle = 'dashed')\n",
        "plt.plot(range(20), -UWE_Part_II, label = \"II\", alpha = 0.2, linestyle = 'dashed')\n",
        "plt.plot(range(20), UWE, label = \"UWE\")\n",
        "plt.legend()\n",
        "\n",
        "### Can also visualize the true risk curve and the true Bayes risk curve"
      ]
    },
    {
      "cell_type": "code",
      "execution_count": 31,
      "metadata": {},
      "outputs": [],
      "source": [
        "model = PMixture()\n",
        "model.fit(data)\n",
        "posterior_means = model.posterior_mean(data)"
      ]
    },
    {
      "cell_type": "code",
      "execution_count": 32,
      "metadata": {},
      "outputs": [
        {
          "data": {
            "text/plain": [
              "<matplotlib.collections.PathCollection at 0x16abd1750>"
            ]
          },
          "execution_count": 32,
          "metadata": {},
          "output_type": "execute_result"
        },
        {
          "data": {
            "image/png": "[encoded data removed]",
            "text/plain": [
              "<Figure size 640x480 with 1 Axes>"
            ]
          },
          "metadata": {},
          "output_type": "display_data"
        }
      ],
      "source": [
        "plt.scatter(data,posterior_means)"
      ]
    },
    {
      "cell_type": "code",
      "execution_count": 10,
      "metadata": {
        "id": "i9k8QohkIp8h"
      },
      "outputs": [
        {
          "name": "stdout",
          "output_type": "stream",
          "text": [
            "8\n",
            "15.153478573645279\n",
            "UWE Regret:20.39592659122711\n"
          ]
        },
        {
          "ename": "NameError",
          "evalue": "name 'posterior_means' is not defined",
          "output_type": "error",
          "traceback": [
            "\u001b[0;31m---------------------------------------------------------------------------\u001b[0m",
            "\u001b[0;31mNameError\u001b[0m                                 Traceback (most recent call last)",
            "Cell \u001b[0;32mIn[10], line 12\u001b[0m\n\u001b[1;32m      9\u001b[0m uwe_welfare \u001b[38;5;241m=\u001b[39m np\u001b[38;5;241m.\u001b[39msum(mus[data \u001b[38;5;241m>\u001b[39m\u001b[38;5;241m=\u001b[39m threshold] \u001b[38;5;241m-\u001b[39m cost)\n\u001b[1;32m     10\u001b[0m \u001b[38;5;28mprint\u001b[39m(\u001b[38;5;124mf\u001b[39m\u001b[38;5;124m\"\u001b[39m\u001b[38;5;124mUWE Regret:\u001b[39m\u001b[38;5;132;01m{\u001b[39;00moracle_welfare\u001b[38;5;250m \u001b[39m\u001b[38;5;241m-\u001b[39m\u001b[38;5;250m \u001b[39muwe_welfare\u001b[38;5;132;01m}\u001b[39;00m\u001b[38;5;124m\"\u001b[39m)\n\u001b[0;32m---> 12\u001b[0m npmle_welfare \u001b[38;5;241m=\u001b[39m np\u001b[38;5;241m.\u001b[39msum(mus[posterior_means \u001b[38;5;241m>\u001b[39m\u001b[38;5;241m=\u001b[39m cost] \u001b[38;5;241m-\u001b[39m cost)\n\u001b[1;32m     13\u001b[0m \u001b[38;5;28mprint\u001b[39m(\u001b[38;5;124mf\u001b[39m\u001b[38;5;124m\"\u001b[39m\u001b[38;5;124mNPMLE Regret:\u001b[39m\u001b[38;5;132;01m{\u001b[39;00moracle_welfare\u001b[38;5;250m \u001b[39m\u001b[38;5;241m-\u001b[39m\u001b[38;5;250m \u001b[39mnpmle_welfare\u001b[38;5;132;01m}\u001b[39;00m\u001b[38;5;124m\"\u001b[39m)\n\u001b[1;32m     15\u001b[0m naive_welfare \u001b[38;5;241m=\u001b[39m np\u001b[38;5;241m.\u001b[39msum(mus[data \u001b[38;5;241m>\u001b[39m\u001b[38;5;241m=\u001b[39m cost] \u001b[38;5;241m-\u001b[39m cost)\n",
            "\u001b[0;31mNameError\u001b[0m: name 'posterior_means' is not defined"
          ]
        }
      ],
      "source": [
        "indices = range(50)\n",
        "threshold = indices[np.argmax(UWE)]\n",
        "print(threshold)\n",
        "\n",
        "\n",
        "oracle_welfare = np.sum(mus[mus >= cost] - cost)\n",
        "print(oracle_welfare)\n",
        "\n",
        "uwe_welfare = np.sum(mus[data >= threshold] - cost)\n",
        "print(f\"UWE Regret:{oracle_welfare - uwe_welfare}\")\n",
        "\n",
        "npmle_welfare = np.sum(mus[posterior_means >= cost] - cost)\n",
        "print(f\"NPMLE Regret:{oracle_welfare - npmle_welfare}\")\n",
        "\n",
        "naive_welfare = np.sum(mus[data >= cost] - cost)\n",
        "print(f\"Naive Regret:{oracle_welfare - naive_welfare}\")\n",
        "\n",
        "robbins_welfare = np.sum(mus[mask] - cost)\n",
        "print(f\"Robbins Regret:{oracle_welfare - robbins_welfare}\")"
      ]
    },
    {
      "cell_type": "code",
      "execution_count": 36,
      "metadata": {
        "id": "WxiX-Ax40SpM"
      },
      "outputs": [],
      "source": [
        "from tqdm import tqdm"
      ]
    },
    {
      "cell_type": "code",
      "execution_count": 53,
      "metadata": {
        "colab": {
          "base_uri": "https://localhost:8080/",
          "height": 211
        },
        "id": "hWCh6E2bMkyx",
        "outputId": "e282ab35-b732-47db-e3c0-7ceb5ee17d27"
      },
      "outputs": [
        {
          "name": "stderr",
          "output_type": "stream",
          "text": [
            "100%|██████████| 500/500 [00:17<00:00, 28.70it/s]\n"
          ]
        }
      ],
      "source": [
        "# Bayes Risk Calculations\n",
        "MAX_BOUND = 100\n",
        "mc_samples = 500\n",
        "n = 1000\n",
        "\n",
        "uwe_regrets = np.zeros(mc_samples)\n",
        "naive_regrets = np.zeros(mc_samples)\n",
        "robbins_regrets = np.zeros(mc_samples)\n",
        "npmle_regrets = np.zeros(mc_samples)\n",
        "\n",
        "for s in tqdm(range(mc_samples)):\n",
        "\n",
        "  ## mixture\n",
        "  #mu1 = np.maximum(0,np.random.normal(18,1,n))\n",
        "  #mu2 = np.maximum(0,np.random.normal(5,8,n))\n",
        "  #mus = np.where(np.random.rand(n) < 0.05, mu1, mu2)\n",
        "\n",
        "  mus = np.maximum(0,np.random.normal(15,3,n))\n",
        "  cost = 16\n",
        "  data = np.random.poisson(mus)\n",
        "\n",
        "  oracle_welfare = np.sum(mus[mus >= cost] - cost)\n",
        "\n",
        "  ### UWE\n",
        "  UWE = np.zeros(MAX_BOUND)\n",
        "  for i in range(MAX_BOUND):\n",
        "    UWE[i] = np.sum(data[data >= i+1]) - cost*np.sum(data >= i)\n",
        "\n",
        "  indices = range(MAX_BOUND)\n",
        "  threshold = indices[np.argmax(UWE)]\n",
        "  uwe_welfare = np.sum(mus[data >= threshold] - cost)\n",
        "\n",
        "  naive_welfare = np.sum(mus[data >= cost] - cost)\n",
        "\n",
        "  ### Robbins\n",
        "  counts,_ = np.histogram(data,bins = np.arange(51))\n",
        "  decision_x = np.arange(1,len(counts))*counts[1:] >= cost*counts[:-1]\n",
        "\n",
        "  mask = np.isin(data, np.argwhere(decision_x == True))\n",
        "  robbins_welfare = np.sum(mus[mask] - cost)\n",
        "\n",
        "  ### NPMLE\n",
        "  model = PMixture()\n",
        "  model.fit(data)\n",
        "  posterior_means = model.posterior_mean(data)\n",
        "  npmle_welfare = np.sum(mus[posterior_means >= cost] - cost)\n",
        "\n",
        "  uwe_regrets[s] = oracle_welfare - uwe_welfare\n",
        "  naive_regrets[s] = oracle_welfare - naive_welfare\n",
        "  robbins_regrets[s] = oracle_welfare - robbins_welfare\n",
        "  npmle_regrets[s] = oracle_welfare - npmle_welfare"
      ]
    },
    {
      "cell_type": "code",
      "execution_count": 54,
      "metadata": {
        "id": "4VA4_7hhNxeW"
      },
      "outputs": [
        {
          "name": "stdout",
          "output_type": "stream",
          "text": [
            "UWE: 460.0488139126025\n",
            "NPMLE: 436.317375154052\n",
            "Naive: 475.327454471693\n",
            "Robbins: 809.8246469174582\n"
          ]
        }
      ],
      "source": [
        "print(\"UWE:\", uwe_regrets.mean())\n",
        "print(\"NPMLE:\", npmle_regrets.mean())\n",
        "print(\"Naive:\", naive_regrets.mean())\n",
        "print(\"Robbins:\",robbins_regrets.mean())"
      ]
    },
    {
      "cell_type": "code",
      "execution_count": null,
      "metadata": {},
      "outputs": [],
      "source": []
    }
  ],
  "metadata": {
    "colab": {
      "provenance": []
    },
    "kernelspec": {
      "display_name": "base",
      "language": "python",
      "name": "python3"
    },
    "language_info": {
      "codemirror_mode": {
        "name": "ipython",
        "version": 3
      },
      "file_extension": ".py",
      "mimetype": "text/x-python",
      "name": "python",
      "nbconvert_exporter": "python",
      "pygments_lexer": "ipython3",
      "version": "3.11.5"
    }
  },
  "nbformat": 4,
  "nbformat_minor": 0
}
